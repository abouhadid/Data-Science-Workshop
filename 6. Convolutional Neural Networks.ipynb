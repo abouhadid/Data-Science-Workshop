{
  "cells": [
    {
      "cell_type": "markdown",
      "metadata": {
        "id": "XptBlFHdSs_4"
      },
      "source": [
        "In this workshop, we will learn how to enhance ANNs using PyTorch to classify complex images. Therefore, we use a special type of deep neural network referred to **Convolutional Neural Networks (CNNs)**. CNNs encompass the ability to take advantage of the hierarchical pattern in data and assemble more complex patterns using smaller and simpler patterns. Therefore, CNNs are capable to learn a set of discriminative features 'pattern' and subsequently utilize the learned pattern to classify the content of an image.\n",
        "\n",
        "Upon successful training, we will utilize the learned CNN model to classify so far unseen tiny images into distinct categories such as aeroplanes, cars, birds, cats, deer, dogs, frogs, horses, ships, and trucks.\n",
        "\n"
      ]
    },
    {
      "cell_type": "markdown",
      "metadata": {
        "id": "sTUunM85Ss_9"
      },
      "source": [
        "# 0. LIBRARIES IMPORT"
      ]
    },
    {
      "cell_type": "code",
      "execution_count": 1,
      "metadata": {
        "id": "U90_27jDSs__"
      },
      "outputs": [],
      "source": [
        "# import standard python libraries\n",
        "import os, urllib, io\n",
        "from datetime import datetime\n",
        "import numpy as np\n",
        "\n",
        "# import the PyTorch deep learning library\n",
        "import torch, torchvision\n",
        "import torch.nn.functional as F\n",
        "from torch import nn, optim\n",
        "from torch.autograd import Variable\n",
        "\n",
        "# import sklearn classification evaluation library\n",
        "from sklearn import metrics\n",
        "from sklearn.metrics import classification_report, confusion_matrix\n",
        "\n",
        "# import matplotlib, seaborn, and PIL data visualization libary\n",
        "import matplotlib.pyplot as plt\n",
        "import seaborn as sns\n",
        "from PIL import Image\n",
        "\n",
        "%matplotlib inline"
      ]
    },
    {
      "cell_type": "markdown",
      "metadata": {
        "id": "K4_KhwgWStAB"
      },
      "source": [
        "Create notebook folder structure to store the data as well as the trained neural network models:"
      ]
    },
    {
      "cell_type": "code",
      "execution_count": 2,
      "metadata": {
        "id": "8Du9dnhwStAB"
      },
      "outputs": [],
      "source": [
        "if not os.path.exists('./data'): os.makedirs('./data')  # create data directory\n",
        "if not os.path.exists('./models'): os.makedirs('./models')  # create trained models directory"
      ]
    },
    {
      "cell_type": "code",
      "execution_count": 3,
      "metadata": {
        "id": "RL9ecaidStAB",
        "colab": {
          "base_uri": "https://localhost:8080/"
        },
        "outputId": "eba68138-5776-46d5-f6f5-1c173fffd029"
      },
      "outputs": [
        {
          "output_type": "execute_result",
          "data": {
            "text/plain": [
              "<torch._C.Generator at 0x7d6fc474d6f0>"
            ]
          },
          "metadata": {},
          "execution_count": 3
        }
      ],
      "source": [
        "# init deterministic seed\n",
        "seed_value = 1234\n",
        "np.random.seed(seed_value) # set numpy seed\n",
        "torch.manual_seed(seed_value) # set pytorch seed CPU"
      ]
    },
    {
      "cell_type": "markdown",
      "metadata": {
        "id": "toY4YH8qStAB"
      },
      "source": [
        "Enable GPU computing:"
      ]
    },
    {
      "cell_type": "code",
      "execution_count": 4,
      "metadata": {
        "id": "FnsGJKxNStAC",
        "colab": {
          "base_uri": "https://localhost:8080/"
        },
        "outputId": "f7ed9d7c-3b7b-40e1-ca28-9db22bb4a706"
      },
      "outputs": [
        {
          "output_type": "stream",
          "name": "stdout",
          "text": [
            "[LOG] notebook with cuda computation enabled\n"
          ]
        }
      ],
      "source": [
        "# set cpu or gpu enabled device\n",
        "device = torch.device('cuda' if torch.cuda.is_available() else 'cpu').type\n",
        "\n",
        "# init deterministic GPU seed\n",
        "torch.cuda.manual_seed(seed_value)\n",
        "\n",
        "# log type of device enabled\n",
        "print('[LOG] notebook with {} computation enabled'.format(str(device)))"
      ]
    },
    {
      "cell_type": "markdown",
      "metadata": {
        "id": "JJafaHF3StAC"
      },
      "source": [
        "Let's determine if we have access to a GPU provided by e.g. Google's COLab environment:"
      ]
    },
    {
      "cell_type": "code",
      "execution_count": null,
      "metadata": {
        "id": "hhbGvtQIStAC"
      },
      "outputs": [],
      "source": [
        "!nvidia-smi"
      ]
    },
    {
      "cell_type": "markdown",
      "metadata": {
        "id": "odbAEhCGStAC"
      },
      "source": [
        "# 1. DATA PROCESSING"
      ]
    },
    {
      "cell_type": "markdown",
      "metadata": {
        "id": "Li7eKBSDStAC"
      },
      "source": [
        "The **CIFAR-10 database** (**C**anadian **I**nstitute **F**or **A**dvanced **R**esearch) is a collection of images that are commonly used to train machine learning and computer vision algorithms. The database is widely used to conduct computer vision research using machine learning and deep learning methods."
      ]
    },
    {
      "cell_type": "markdown",
      "metadata": {
        "id": "db4fzyUvStAD"
      },
      "source": [
        "The CIFAR-10 database contains **60,000 color images** (50,000 training images and 10,000 validation images). The size of each image is 32 by 32 pixels. The collection of images encompasses 10 different classes that represent airplanes, cars, birds, cats, deer, dogs, frogs, horses, ships, and trucks. Let's define the distinct classs for further analytics:"
      ]
    },
    {
      "cell_type": "code",
      "execution_count": 6,
      "metadata": {
        "id": "XIeq_u4ZStAD"
      },
      "outputs": [],
      "source": [
        "cifar10_classes = ['plane', 'car', 'bird', 'cat', 'deer', 'dog', 'frog', 'horse', 'ship', 'truck']"
      ]
    },
    {
      "cell_type": "markdown",
      "metadata": {
        "id": "m8ZgyncyStAD"
      },
      "source": [
        "Thereby the dataset contains 6,000 images for each of the ten classes. The CIFAR-10 is a straightforward dataset that can be used to teach a computer how to recognize objects in images.\n",
        "\n",
        "Let's download, transform and inspect the training images of the dataset. Therefore, we first will define the directory we aim to store the training data:"
      ]
    },
    {
      "cell_type": "code",
      "execution_count": 7,
      "metadata": {
        "id": "s0suoaaqStAD"
      },
      "outputs": [],
      "source": [
        "train_path = './data/train_cifar10'"
      ]
    },
    {
      "cell_type": "markdown",
      "source": [
        "## a. data acquisition"
      ],
      "metadata": {
        "id": "3TUa7Z7fjIP0"
      }
    },
    {
      "cell_type": "markdown",
      "metadata": {
        "id": "etCmir6QStAD"
      },
      "source": [
        "Now, let's download the training data accordingly:"
      ]
    },
    {
      "cell_type": "code",
      "execution_count": 8,
      "metadata": {
        "id": "DG-x94gWStAD",
        "colab": {
          "base_uri": "https://localhost:8080/"
        },
        "outputId": "0dd2a3c8-7c3d-4306-c4f4-6f80a4efcb5b"
      },
      "outputs": [
        {
          "output_type": "stream",
          "name": "stdout",
          "text": [
            "Downloading https://www.cs.toronto.edu/~kriz/cifar-10-python.tar.gz to ./data/train_cifar10/cifar-10-python.tar.gz\n"
          ]
        },
        {
          "output_type": "stream",
          "name": "stderr",
          "text": [
            "100%|██████████| 170498071/170498071 [00:03<00:00, 43825042.54it/s]\n"
          ]
        },
        {
          "output_type": "stream",
          "name": "stdout",
          "text": [
            "Extracting ./data/train_cifar10/cifar-10-python.tar.gz to ./data/train_cifar10\n"
          ]
        }
      ],
      "source": [
        "# define pytorch transformation into tensor format\n",
        "transf = torchvision.transforms.Compose([torchvision.transforms.ToTensor(), torchvision.transforms.Normalize((0.5, 0.5, 0.5), (0.5, 0.5, 0.5))])\n",
        "\n",
        "# download and transform training images\n",
        "cifar10_train_data = torchvision.datasets.CIFAR10(root=train_path, train=True, transform=transf, download=True)"
      ]
    },
    {
      "cell_type": "code",
      "execution_count": null,
      "metadata": {
        "id": "NaXwdD7oStAD"
      },
      "outputs": [],
      "source": [
        "# get the length of the training data\n",
        "len(cifar10_train_data)"
      ]
    },
    {
      "cell_type": "markdown",
      "metadata": {
        "id": "I8QmQUtdStAE"
      },
      "source": [
        "let's investigate a sample:"
      ]
    },
    {
      "cell_type": "code",
      "execution_count": null,
      "metadata": {
        "id": "6rv9RQxzStAE"
      },
      "outputs": [],
      "source": [
        "# set (random) image id\n",
        "image_id = 1800\n",
        "\n",
        "# retrieve image exhibiting the image id\n",
        "cifar10_train_data[image_id]"
      ]
    },
    {
      "cell_type": "code",
      "execution_count": 10,
      "metadata": {
        "id": "N2YDV0HsStAI"
      },
      "outputs": [],
      "source": [
        "cifar10_train_image, cifar10_train_label = cifar10_train_data[image_id]"
      ]
    },
    {
      "cell_type": "code",
      "execution_count": 11,
      "metadata": {
        "id": "_U-OjyUTStAI",
        "colab": {
          "base_uri": "https://localhost:8080/"
        },
        "outputId": "7e1a5ad4-18fa-48ff-b86e-07e7ad9f1f22"
      },
      "outputs": [
        {
          "output_type": "execute_result",
          "data": {
            "text/plain": [
              "torch.Size([3, 32, 32])"
            ]
          },
          "metadata": {},
          "execution_count": 11
        }
      ],
      "source": [
        "cifar10_train_image.shape"
      ]
    },
    {
      "cell_type": "code",
      "execution_count": 14,
      "metadata": {
        "id": "yabnkCAPStAI",
        "colab": {
          "base_uri": "https://localhost:8080/",
          "height": 469
        },
        "outputId": "8556687e-5662-4ac7-fb40-df1d6be83a81"
      },
      "outputs": [
        {
          "output_type": "execute_result",
          "data": {
            "text/plain": [
              "<matplotlib.image.AxesImage at 0x7d6ec03d30d0>"
            ]
          },
          "metadata": {},
          "execution_count": 14
        },
        {
          "output_type": "display_data",
          "data": {
            "text/plain": [
              "<Figure size 640x480 with 1 Axes>"
            ],
            "image/png": "[encoded data removed]"
          },
          "metadata": {}
        }
      ],
      "source": [
        "# define tensor to image transformation\n",
        "trans = torchvision.transforms.ToPILImage()\n",
        "\n",
        "# set image plot title\n",
        "plt.title('Example: {}, Label: \"{}\"'.format(str(image_id), str(cifar10_classes[cifar10_train_label])))\n",
        "\n",
        "# un-normalize cifar 10 image sample\n",
        "cifar10_train_image_plot = cifar10_train_image / 2.0 + 0.5\n",
        "\n",
        "# plot 10 image sample\n",
        "plt.imshow(trans(cifar10_train_image_plot))"
      ]
    },
    {
      "cell_type": "markdown",
      "metadata": {
        "id": "TZJiIp87StAI"
      },
      "source": [
        "Now we download evaluation data:"
      ]
    },
    {
      "cell_type": "code",
      "execution_count": 15,
      "metadata": {
        "id": "jkLSE0vpStAJ"
      },
      "outputs": [],
      "source": [
        "eval_path = './data/eval_cifar10'"
      ]
    },
    {
      "cell_type": "code",
      "execution_count": 16,
      "metadata": {
        "id": "TttF-SJOStAJ",
        "colab": {
          "base_uri": "https://localhost:8080/"
        },
        "outputId": "00e1ca30-9cc7-490a-9658-7e3b77abb470"
      },
      "outputs": [
        {
          "output_type": "stream",
          "name": "stdout",
          "text": [
            "Downloading https://www.cs.toronto.edu/~kriz/cifar-10-python.tar.gz to ./data/eval_cifar10/cifar-10-python.tar.gz\n"
          ]
        },
        {
          "output_type": "stream",
          "name": "stderr",
          "text": [
            "100%|██████████| 170498071/170498071 [00:03<00:00, 42967580.41it/s]\n"
          ]
        },
        {
          "output_type": "stream",
          "name": "stdout",
          "text": [
            "Extracting ./data/eval_cifar10/cifar-10-python.tar.gz to ./data/eval_cifar10\n"
          ]
        }
      ],
      "source": [
        "# define pytorch transformation into tensor format\n",
        "transf = torchvision.transforms.Compose([torchvision.transforms.ToTensor(), torchvision.transforms.Normalize((0.5, 0.5, 0.5), (0.5, 0.5, 0.5))])\n",
        "\n",
        "# download and transform validation images\n",
        "cifar10_eval_data = torchvision.datasets.CIFAR10(root=eval_path, train=False, transform=transf, download=True)"
      ]
    },
    {
      "cell_type": "code",
      "execution_count": 17,
      "metadata": {
        "id": "YpfQWdQ5StAJ",
        "colab": {
          "base_uri": "https://localhost:8080/"
        },
        "outputId": "6b7c9969-2797-4801-f4e9-00a86c5686de"
      },
      "outputs": [
        {
          "output_type": "execute_result",
          "data": {
            "text/plain": [
              "10000"
            ]
          },
          "metadata": {},
          "execution_count": 17
        }
      ],
      "source": [
        "# get the length of the training data\n",
        "len(cifar10_eval_data)"
      ]
    },
    {
      "cell_type": "markdown",
      "metadata": {
        "id": "KASrBizqStAL"
      },
      "source": [
        "# 2. NEURAL NETWORK IMPLEMENTATION"
      ]
    },
    {
      "cell_type": "markdown",
      "metadata": {
        "id": "W-XeWsNsStAL"
      },
      "source": [
        "In this section, we will implement the architecture of the **neural network** we aim to utilize to learn a model that is capable of classifying the 32x32 pixel CIFAR 10 images according to the objects contained in each image."
      ]
    },
    {
      "cell_type": "markdown",
      "source": [
        "## a. architecture"
      ],
      "metadata": {
        "id": "go9pWhjAlUdL"
      }
    },
    {
      "cell_type": "markdown",
      "metadata": {
        "id": "SPFqArqIStAM"
      },
      "source": [
        "Our CNN, which we name 'CIFAR10Net' and aim to implement consists of two **convolutional layers** and three **fully-connected layers**. In general, convolutional layers are specifically designed to learn a set of **high-level features** (\"patterns\") in the processed images, e.g., tiny edges and shapes. The fully-connected layers utilize the learned features to learn **non-linear feature combinations** that allow for highly accurate classification of the image content into the different image classes of the CIFAR-10 dataset, such as, birds, aeroplanes, horses."
      ]
    },
    {
      "cell_type": "markdown",
      "metadata": {
        "id": "xvaHof52StAM"
      },
      "source": [
        "Let's implement the network architecture and subsequently have a more in-depth look into its architectural details:"
      ]
    },
    {
      "cell_type": "code",
      "execution_count": 18,
      "metadata": {
        "id": "_NUYMHdCStAM"
      },
      "outputs": [],
      "source": [
        "# implement the CIFAR10Net network architecture\n",
        "class CIFAR10Net(nn.Module):\n",
        "\n",
        "    # define the class constructor\n",
        "    def __init__(self):\n",
        "\n",
        "        # call super class constructor\n",
        "        super(CIFAR10Net, self).__init__()\n",
        "\n",
        "        # specify convolution layer 1\n",
        "        self.conv1 = nn.Conv2d(in_channels=3, out_channels=6, kernel_size=5, stride=1, padding=0)\n",
        "\n",
        "        # define max-pooling layer 1\n",
        "        self.pool1 = nn.MaxPool2d(kernel_size=2, stride=2)\n",
        "\n",
        "        # specify convolution layer 2\n",
        "        self.conv2 = nn.Conv2d(in_channels=6, out_channels=16, kernel_size=5, stride=1, padding=0)\n",
        "\n",
        "        # define max-pooling layer 2\n",
        "        self.pool2 = nn.MaxPool2d(kernel_size=2, stride=2)\n",
        "\n",
        "        # specify fc layer 1 - in 16 * 5 * 5, out 120\n",
        "        self.linear1 = nn.Linear(16 * 5 * 5, 120, bias=True) # the linearity W*x+b\n",
        "        self.relu1 = nn.ReLU(inplace=True) # the non-linearity\n",
        "\n",
        "        # specify fc layer 2 - in 120, out 84\n",
        "        self.linear2 = nn.Linear(120, 84, bias=True) # the linearity W*x+b\n",
        "        self.relu2 = nn.ReLU(inplace=True) # the non-linarity\n",
        "\n",
        "        # specify fc layer 3 - in 84, out 10\n",
        "        self.linear3 = nn.Linear(84, 10) # the linearity W*x+b\n",
        "\n",
        "        # add a softmax to the last layer\n",
        "        self.logsoftmax = nn.LogSoftmax(dim=1) # the softmax\n",
        "\n",
        "    # define network forward pass\n",
        "    def forward(self, images):\n",
        "\n",
        "        # high-level feature learning via convolutional layers\n",
        "\n",
        "        # define conv layer 1 forward pass\n",
        "        x = self.pool1(self.relu1(self.conv1(images)))\n",
        "\n",
        "        # define conv layer 2 forward pass\n",
        "        x = self.pool2(self.relu2(self.conv2(x)))\n",
        "\n",
        "        # feature flattening\n",
        "\n",
        "        # reshape image pixels\n",
        "        x = x.view(-1, 16 * 5 * 5)\n",
        "\n",
        "        # combination of feature learning via non-linear layers\n",
        "\n",
        "        # define fc layer 1 forward pass\n",
        "        x = self.relu1(self.linear1(x))\n",
        "\n",
        "        # define fc layer 2 forward pass\n",
        "        x = self.relu2(self.linear2(x))\n",
        "\n",
        "        # define layer 3 forward pass\n",
        "        x = self.logsoftmax(self.linear3(x))\n",
        "\n",
        "        # return forward pass result\n",
        "        return x"
      ]
    },
    {
      "cell_type": "markdown",
      "metadata": {
        "id": "rGA_LK98StAM"
      },
      "source": [
        "We applied two layers before the fully-connected layers. These layers are referred to as **convolutional** layers and are usually comprised of three operations, (1) **convolution**, (2) **non-linearity**, and (3) **max-pooling**. Those operations are usually executed in sequential order during the forward pass through a convolutional layer."
      ]
    },
    {
      "cell_type": "markdown",
      "metadata": {
        "id": "Yhzmy6XUStAM"
      },
      "source": [
        "In the following, we will have a detailed look into the functionality and number of parameters in each layer. We will start with providing images of 3x32x32 dimensions to the network, i.e., the three channels (red, green, blue) of an image each of size 32x32 pixels."
      ]
    },
    {
      "cell_type": "markdown",
      "metadata": {
        "id": "VaFYhN3iStAN"
      },
      "source": [
        "## b. high-level feature learning by Convolutional Layers"
      ]
    },
    {
      "cell_type": "markdown",
      "metadata": {
        "id": "iD4NKG2TStAN"
      },
      "source": [
        "**First Convolutional Layer**: The first convolutional layer expects three input channels and will convolve six filters each of size 3x5x5. Let's briefly revisit how we can perform a convolutional operation on a given image. For that, we need to define a kernel which is a matrix of size 5x5, for example. To perform the convolution operation, we slide the kernel along with the image horizontally and vertically and obtain the dot product of the kernel and the pixel values of the image inside the kernel ('receptive field' of the kernel)."
      ]
    },
    {
      "cell_type": "markdown",
      "metadata": {
        "id": "9QjjH7ZTStAO"
      },
      "source": [
        "When performing the convolution operation the 'stride' defines the number of pixels to pass at a time when sliding the kernel over the input. While 'padding' adds the number of pixels to the input image (or feature map) to ensure that the output has the same shape as the input."
      ]
    },
    {
      "cell_type": "markdown",
      "metadata": {
        "id": "wN3T1sXtStAP"
      },
      "source": [
        "**First Max-Pooling Layer:** The max-pooling process is a sample-based discretization operation. The objective is to down-sample an input representation (image, hidden-layer output matrix, etc.), reducing its dimensionality and allowing for assumptions to be made about features contained in the sub-regions binned.\n",
        "\n",
        "To conduct such an operation, we again need to define a kernel. Max-pooling kernels are usually a tiny matrix of, e.g, of size 2x2. To perform the max-pooling operation, we slide the kernel along the image horizontally and vertically (similarly to a convolution) and compute the maximum pixel value of the image (or feature map) inside the kernel (the receptive field of the kernel)."
      ]
    },
    {
      "cell_type": "markdown",
      "metadata": {
        "id": "YjHE0pSBStAQ"
      },
      "source": [
        "**Second Convolutional Layer:** The second convolutional layer expects 6 input channels and will convolve 16 filters each of size 6x5x5x. Since padding is set to 0 and stride is set 1, the output size is 16x10x10, because (14  - 5) + 1 = 10. This layer therefore has ((5 x 5 x 6) + 1 x 16) = 24,16 parameter.\n",
        "\n",
        "**Second Max-Pooling Layer:** The second down-sampling layer uses max-pooling with 2x2 kernel and stride set to 2. This effectively drops the size from 16x10x10 to 16x5x5."
      ]
    },
    {
      "cell_type": "markdown",
      "metadata": {
        "id": "k2i8xhZzStAQ"
      },
      "source": [
        "## c. feature flattening\n",
        "\n",
        "The output of the final-max pooling layer needs to be flattened so that we can connect it to a fully connected layer. This is achieved using the `torch.Tensor.view` method. Setting the parameter of the method to `-1` will automatically infer the number of rows required to handle the mini-batch size of the data."
      ]
    },
    {
      "cell_type": "markdown",
      "metadata": {
        "id": "LiHnDKGzStAQ"
      },
      "source": [
        "## d. learning of feature combinations"
      ]
    },
    {
      "cell_type": "markdown",
      "metadata": {
        "id": "_CsYE8IQStAQ"
      },
      "source": [
        "Let's now have a look into the non-linear layers of the network."
      ]
    },
    {
      "cell_type": "markdown",
      "metadata": {
        "id": "JCPFUNY4StAR"
      },
      "source": [
        "The first fully connected layer uses 'Rectified Linear Units' (ReLU) activation functions to learn potential nonlinear combinations of features."
      ]
    },
    {
      "cell_type": "markdown",
      "metadata": {
        "id": "yxZK1pGxStAR"
      },
      "source": [
        "**First Fully-Connected Layer:** The first fully-connected layer consists of 120 neurons, thus in total exhibits ((16 x 5 x 5) + 1) x 120 = 48,120 parameter.\n",
        "\n",
        "**Second Fully-Connected Layer:** The output of the first fully-connected layer is then transferred to second fully-connected layer. The layer consists of 84 neurons equipped with ReLu activation functions, this in total exhibits (120 + 1) x 84 = 10,164 parameter."
      ]
    },
    {
      "cell_type": "markdown",
      "metadata": {
        "id": "51_q56MbStAR"
      },
      "source": [
        "The output of the second fully-connected layer is then transferred to the output-layer (third fully-connected layer). The output layer is equipped with a softmax and is made up of ten neurons, one for each object class contained in the CIFAR-10 dataset. This layer exhibits (84 + 1) x 10 = 850 parameter.\n",
        "\n",
        "\n",
        "As a result our CIFAR-10 convolutional neural exhibits a total of 456 + 2,416 + 48,120 + 10,164 + 850 = 62,006 parameter.\n"
      ]
    },
    {
      "cell_type": "markdown",
      "metadata": {
        "id": "BPRz7T-_StAT"
      },
      "source": [
        "Now, that we have implemented our first Convolutional Neural Network we are ready to instantiate a network model to be trained:"
      ]
    },
    {
      "cell_type": "code",
      "execution_count": 19,
      "metadata": {
        "id": "UEuuYNGlStAU"
      },
      "outputs": [],
      "source": [
        "model = CIFAR10Net()"
      ]
    },
    {
      "cell_type": "code",
      "execution_count": 20,
      "metadata": {
        "id": "XBZNmA76StAU"
      },
      "outputs": [],
      "source": [
        "model = model.to(device)"
      ]
    },
    {
      "cell_type": "markdown",
      "metadata": {
        "id": "jqJoraOmStAV"
      },
      "source": [
        "Once the model is initialized we can visualize the model structure and review the implemented network architecture:"
      ]
    },
    {
      "cell_type": "code",
      "execution_count": 22,
      "metadata": {
        "id": "sNWRFhPQStAV",
        "colab": {
          "base_uri": "https://localhost:8080/"
        },
        "outputId": "1a897c8f-8e49-42aa-8c48-bf8445a8a6fa"
      },
      "outputs": [
        {
          "output_type": "stream",
          "name": "stdout",
          "text": [
            "[LOG] CIFAR10Net architecture:\n",
            "\n",
            "CIFAR10Net(\n",
            "  (conv1): Conv2d(3, 6, kernel_size=(5, 5), stride=(1, 1))\n",
            "  (pool1): MaxPool2d(kernel_size=2, stride=2, padding=0, dilation=1, ceil_mode=False)\n",
            "  (conv2): Conv2d(6, 16, kernel_size=(5, 5), stride=(1, 1))\n",
            "  (pool2): MaxPool2d(kernel_size=2, stride=2, padding=0, dilation=1, ceil_mode=False)\n",
            "  (linear1): Linear(in_features=400, out_features=120, bias=True)\n",
            "  (relu1): ReLU(inplace=True)\n",
            "  (linear2): Linear(in_features=120, out_features=84, bias=True)\n",
            "  (relu2): ReLU(inplace=True)\n",
            "  (linear3): Linear(in_features=84, out_features=10, bias=True)\n",
            "  (logsoftmax): LogSoftmax(dim=1)\n",
            ")\n",
            "\n"
          ]
        }
      ],
      "source": [
        "# print the initialized architectures\n",
        "print('[LOG] CIFAR10Net architecture:\\n\\n{}\\n'.format(model))"
      ]
    },
    {
      "cell_type": "code",
      "execution_count": 23,
      "metadata": {
        "id": "HKvVHwQ1StAV",
        "colab": {
          "base_uri": "https://localhost:8080/"
        },
        "outputId": "36d6687a-6dc1-4730-e78c-b6de6d4e8dbd"
      },
      "outputs": [
        {
          "output_type": "stream",
          "name": "stdout",
          "text": [
            "[LOG] Number of to be trained CIFAR10Net model parameters: 62006.\n"
          ]
        }
      ],
      "source": [
        "# init the number of model parameters\n",
        "num_params = 0\n",
        "\n",
        "# iterate over the distinct parameters\n",
        "for param in model.parameters():\n",
        "\n",
        "    # collect number of parameters\n",
        "    num_params += param.numel()\n",
        "\n",
        "# print the number of model paramters\n",
        "print('[LOG] Number of to be trained CIFAR10Net model parameters: {}.'.format(num_params))"
      ]
    },
    {
      "cell_type": "markdown",
      "source": [
        "## e. loss function"
      ],
      "metadata": {
        "id": "JaJBVxBfnzFU"
      }
    },
    {
      "cell_type": "markdown",
      "metadata": {
        "id": "S1_1nnwiStAV"
      },
      "source": [
        "Now that we have implemented the CIFAR10Net, we are ready to train the network. However, before starting the training, we need to define an appropriate loss function. Remember, we aim to train our model to learn a set of model parameters $\\theta$ that minimize the classification error of the true class $c^{i}$ of a given CIFAR-10 image $x^{i}$ and its predicted class $\\hat{c}^{i} = f_\\theta(x^{i})$ as faithfully as possible.\n",
        "\n",
        "We'll use the **'Negative Log-Likelihood (NLL)'** loss. During training the NLL loss will penalize models that result in a high classification error between the predicted class labels $\\hat{c}^{i}$ and their respective true class label $c^{i}$. Now that we have implemented the CIFAR10Net, we are ready to train the network. Before starting the training, we need to define an appropriate loss function. Remember, we aim to train our model to learn a set of model parameters $\\theta$ that minimize the classification error of the true class $c^{i}$ of a given CIFAR-10 image $x^{i}$ and its predicted class $\\hat{c}^{i} = f_\\theta(x^{i})$ as faithfully as possible."
      ]
    },
    {
      "cell_type": "markdown",
      "metadata": {
        "id": "uSmRUPZ1StAW"
      },
      "source": [
        "Let's instantiate the NLL via the execution of the following PyTorch command:"
      ]
    },
    {
      "cell_type": "code",
      "execution_count": 25,
      "metadata": {
        "id": "69rR_udIStAW"
      },
      "outputs": [],
      "source": [
        "# define the optimization criterion / loss function\n",
        "nll_loss = nn.NLLLoss()\n",
        "nll_loss = nll_loss.to(device)"
      ]
    },
    {
      "cell_type": "markdown",
      "metadata": {
        "id": "fkT976I6StAX"
      },
      "source": [
        "We will use the **Stochastic Gradient Descent (SGD) optimization** and set the `learning-rate to 0.001`. Each mini-batch step the optimizer will update the model parameters $\\theta$ values according to the degree of classification error (the NLL loss)."
      ]
    },
    {
      "cell_type": "code",
      "execution_count": 26,
      "metadata": {
        "id": "-zC5TBx0StAX"
      },
      "outputs": [],
      "source": [
        "# define learning rate and optimization strategy\n",
        "learning_rate = 0.001\n",
        "optimizer = optim.SGD(params=model.parameters(), lr=learning_rate)"
      ]
    },
    {
      "cell_type": "markdown",
      "metadata": {
        "id": "1iJA3KLcStAY"
      },
      "source": [
        "## f. training"
      ]
    },
    {
      "cell_type": "markdown",
      "metadata": {
        "id": "7410N76aStAY"
      },
      "source": [
        "So far, we have pre-processed the dataset, implemented the CNN and defined the classification error. Let's now start to train a corresponding model for **20 epochs** and a **mini-batch size of 128** CIFAR-10 images per batch. This implies that the whole dataset will be fed to the CNN 20 times in chunks of 4 images yielding to **12,500 mini-batches** (50.000 training images / 128 images per mini-batch) per epoch. After the processing of each mini-batch, the parameters of the network will be updated."
      ]
    },
    {
      "cell_type": "code",
      "execution_count": 30,
      "metadata": {
        "id": "IEhhUuD-StAY"
      },
      "outputs": [],
      "source": [
        "# specify the training parameters\n",
        "num_epochs = 20 # number of training epochs\n",
        "mini_batch_size = 4 # size of the mini-batches"
      ]
    },
    {
      "cell_type": "markdown",
      "metadata": {
        "id": "7SfsEFi9StAZ"
      },
      "source": [
        "Furthermore, lets specifiy and instantiate a corresponding PyTorch data loader that feeds the image tensors to our neural network:"
      ]
    },
    {
      "cell_type": "code",
      "execution_count": 31,
      "metadata": {
        "id": "mXKoOGx2StAZ"
      },
      "outputs": [],
      "source": [
        "cifar10_train_dataloader = torch.utils.data.DataLoader(cifar10_train_data, batch_size=mini_batch_size, shuffle=True)"
      ]
    },
    {
      "cell_type": "markdown",
      "metadata": {
        "id": "Hd44mbXYStAZ"
      },
      "source": [
        "#### 3.2. Running the Network Training"
      ]
    },
    {
      "cell_type": "markdown",
      "metadata": {
        "id": "lh-BrzXHStAa"
      },
      "source": [
        "Finally, we start training the model. The training procedure for each mini-batch is performed as follows:\n",
        "\n",
        ">1. do a forward pass through the CIFAR10Net network,\n",
        ">2. compute the negative log-likelihood classification error $\\mathcal{L}^{NLL}_{\\theta}(c^{i};\\hat{c}^{i})$,\n",
        ">3. do a backward pass through the CIFAR10Net network, and\n",
        ">4. update the parameters of the network $f_\\theta(\\cdot)$.\n",
        "\n",
        "To ensure learning while training our CNN model, we will monitor whether the loss decreases with progressing training. Therefore, we obtain and evaluate the classification performance of the entire training dataset after each training epoch. Based on this evaluation, we can conclude on the training progress and whether the loss is converging (indicating that the model might not improve any further).\n",
        "\n",
        "The following elements of the network training code below should be given particular attention:\n",
        "\n",
        ">- `loss.backward()` computes the gradients based on the magnitude of the reconstruction loss,\n",
        ">- `optimizer.step()` updates the network parameters based on the gradient."
      ]
    },
    {
      "cell_type": "code",
      "execution_count": 32,
      "metadata": {
        "scrolled": true,
        "id": "uECLq8GFStAa",
        "colab": {
          "base_uri": "https://localhost:8080/"
        },
        "outputId": "32e9b49e-6de9-41ee-8fa2-02c4359f4ee6"
      },
      "outputs": [
        {
          "output_type": "stream",
          "name": "stdout",
          "text": [
            "[LOG 20240415-21:24:07] epoch: 0 train-loss: 2.1520417763710022\n",
            "[LOG 20240415-21:24:45] epoch: 1 train-loss: 1.8435694323492051\n",
            "[LOG 20240415-21:25:24] epoch: 2 train-loss: 1.6242770936656\n",
            "[LOG 20240415-21:26:01] epoch: 3 train-loss: 1.5123869385361672\n",
            "[LOG 20240415-21:26:39] epoch: 4 train-loss: 1.434479850436449\n",
            "[LOG 20240415-21:27:17] epoch: 5 train-loss: 1.3651646212911606\n",
            "[LOG 20240415-21:27:55] epoch: 6 train-loss: 1.3047532243931292\n",
            "[LOG 20240415-21:28:33] epoch: 7 train-loss: 1.2512333296203613\n",
            "[LOG 20240415-21:29:11] epoch: 8 train-loss: 1.2076804675114154\n",
            "[LOG 20240415-21:29:49] epoch: 9 train-loss: 1.1653290537905694\n",
            "[LOG 20240415-21:30:27] epoch: 10 train-loss: 1.128013962458372\n",
            "[LOG 20240415-21:31:05] epoch: 11 train-loss: 1.0956244670015574\n",
            "[LOG 20240415-21:31:43] epoch: 12 train-loss: 1.065255690344423\n",
            "[LOG 20240415-21:32:21] epoch: 13 train-loss: 1.033691759147346\n",
            "[LOG 20240415-21:32:59] epoch: 14 train-loss: 1.0072930043683945\n",
            "[LOG 20240415-21:33:38] epoch: 15 train-loss: 0.9804451347124576\n",
            "[LOG 20240415-21:34:16] epoch: 16 train-loss: 0.956620307687223\n",
            "[LOG 20240415-21:34:54] epoch: 17 train-loss: 0.9340460787730664\n",
            "[LOG 20240415-21:35:33] epoch: 18 train-loss: 0.9107275588117539\n",
            "[LOG 20240415-21:36:11] epoch: 19 train-loss: 0.8894364533633738\n"
          ]
        }
      ],
      "source": [
        "# init collection of training epoch losses\n",
        "train_epoch_losses = []\n",
        "\n",
        "# set the model in training mode\n",
        "model.train()\n",
        "\n",
        "# train the CIFAR10 model\n",
        "for epoch in range(num_epochs):\n",
        "\n",
        "    # init collection of mini-batch losses\n",
        "    train_mini_batch_losses = []\n",
        "\n",
        "    # iterate over all-mini batches\n",
        "    for i, (images, labels) in enumerate(cifar10_train_dataloader):\n",
        "\n",
        "        # push mini-batch data to computation device\n",
        "        images = images.to(device)\n",
        "        labels = labels.to(device)\n",
        "\n",
        "        # run forward pass through the network\n",
        "        output = model(images)\n",
        "\n",
        "        # reset graph gradients\n",
        "        model.zero_grad()\n",
        "\n",
        "        # determine classification loss\n",
        "        loss = nll_loss(output, labels)\n",
        "\n",
        "        # run backward pass\n",
        "        loss.backward()\n",
        "\n",
        "        # update network paramaters\n",
        "        optimizer.step()\n",
        "\n",
        "        # collect mini-batch reconstruction loss\n",
        "        train_mini_batch_losses.append(loss.data.item())\n",
        "\n",
        "    # determine mean min-batch loss of epoch\n",
        "    train_epoch_loss = np.mean(train_mini_batch_losses)\n",
        "\n",
        "    # print epoch loss\n",
        "    now = datetime.utcnow().strftime(\"%Y%m%d-%H:%M:%S\")\n",
        "    print('[LOG {}] epoch: {} train-loss: {}'.format(str(now), str(epoch), str(train_epoch_loss)))\n",
        "\n",
        "    # save model to local directory\n",
        "    model_name = 'cifar10_model_epoch_{}.pth'.format(str(epoch))\n",
        "    torch.save(model.state_dict(), os.path.join(\"./models\", model_name))\n",
        "\n",
        "    # determine mean min-batch loss of epoch\n",
        "    train_epoch_losses.append(train_epoch_loss)"
      ]
    },
    {
      "cell_type": "markdown",
      "metadata": {
        "id": "PnbAlWGcStAb"
      },
      "source": [
        "let's visualize and inspect the training loss per epoch:"
      ]
    },
    {
      "cell_type": "code",
      "execution_count": 33,
      "metadata": {
        "id": "EY5nKvbKStAb",
        "colab": {
          "base_uri": "https://localhost:8080/",
          "height": 477
        },
        "outputId": "baeeed71-3108-409a-e8a4-ce527b336dce"
      },
      "outputs": [
        {
          "output_type": "display_data",
          "data": {
            "text/plain": [
              "<Figure size 640x480 with 1 Axes>"
            ],
            "image/png": "[encoded data removed]"
          },
          "metadata": {}
        }
      ],
      "source": [
        "# prepare plot\n",
        "fig = plt.figure()\n",
        "ax = fig.add_subplot(111)\n",
        "\n",
        "# add grid\n",
        "ax.grid(linestyle='dotted')\n",
        "\n",
        "# plot the training epochs vs. the epochs' classification error\n",
        "ax.plot(np.array(range(1, len(train_epoch_losses)+1)), train_epoch_losses, label='epoch loss (blue)')\n",
        "\n",
        "# add axis legends\n",
        "ax.set_xlabel(\"[training epoch $e_i$]\", fontsize=10)\n",
        "ax.set_ylabel(\"[Classification Error $\\mathcal{L}^{NLL}$]\", fontsize=10)\n",
        "\n",
        "# set plot legend\n",
        "plt.legend(loc=\"upper right\", numpoints=1, fancybox=True)\n",
        "\n",
        "# add plot title\n",
        "plt.title('Training Epochs $e_i$ vs. Classification Error $L^{NLL}$', fontsize=10);"
      ]
    },
    {
      "cell_type": "markdown",
      "metadata": {
        "id": "umYdQprWStAb"
      },
      "source": [
        "Ok, fantastic. The training error converges nicely. We could definitely train the network a couple more epochs until the error converges. But let's stay with the 20 training epochs for now and continue with evaluating our trained model."
      ]
    },
    {
      "cell_type": "markdown",
      "metadata": {
        "id": "lqHeiYr7StAb"
      },
      "source": [
        "## g. evaluation"
      ]
    },
    {
      "cell_type": "markdown",
      "metadata": {
        "id": "z7V_JAGSStAb"
      },
      "source": [
        "Prior to evaluating our model, let's load the best performing model."
      ]
    },
    {
      "cell_type": "code",
      "execution_count": 38,
      "metadata": {
        "id": "Qp6NtPvEStAc",
        "colab": {
          "base_uri": "https://localhost:8080/"
        },
        "outputId": "91600547-0cfc-47fa-aeba-d0c28b3a5ae8"
      },
      "outputs": [
        {
          "output_type": "execute_result",
          "data": {
            "text/plain": [
              "<All keys matched successfully>"
            ]
          },
          "metadata": {},
          "execution_count": 38
        }
      ],
      "source": [
        "# restore pre-trained model snapshot\n",
        "best_model_name = 'https://raw.githubusercontent.com/financial-data-science/CFDS-Notebooks/master/lab_12/models/cifar10_model_epoch_100.pth'\n",
        "\n",
        "# read stored model from the remote location\n",
        "model_bytes = urllib.request.urlopen(best_model_name)\n",
        "\n",
        "# load model tensor from io.BytesIO object\n",
        "model_buffer = io.BytesIO(model_bytes.read())\n",
        "\n",
        "# init pre-trained model class\n",
        "best_model = CIFAR10Net()\n",
        "\n",
        "# load pre-trained models\n",
        "best_model.load_state_dict(torch.load(model_buffer, map_location=torch.device('cpu')))"
      ]
    },
    {
      "cell_type": "markdown",
      "metadata": {
        "id": "pV7yVn8qStAc"
      },
      "source": [
        "Let's inspect if the model was loaded successfully:"
      ]
    },
    {
      "cell_type": "code",
      "execution_count": 39,
      "metadata": {
        "id": "-Y3q9GWYStAc",
        "colab": {
          "base_uri": "https://localhost:8080/"
        },
        "outputId": "ed4ef926-ec78-4517-8d54-941d1b54586f"
      },
      "outputs": [
        {
          "output_type": "execute_result",
          "data": {
            "text/plain": [
              "CIFAR10Net(\n",
              "  (conv1): Conv2d(3, 6, kernel_size=(5, 5), stride=(1, 1))\n",
              "  (pool1): MaxPool2d(kernel_size=2, stride=2, padding=0, dilation=1, ceil_mode=False)\n",
              "  (conv2): Conv2d(6, 16, kernel_size=(5, 5), stride=(1, 1))\n",
              "  (pool2): MaxPool2d(kernel_size=2, stride=2, padding=0, dilation=1, ceil_mode=False)\n",
              "  (linear1): Linear(in_features=400, out_features=120, bias=True)\n",
              "  (relu1): ReLU(inplace=True)\n",
              "  (linear2): Linear(in_features=120, out_features=84, bias=True)\n",
              "  (relu2): ReLU(inplace=True)\n",
              "  (linear3): Linear(in_features=84, out_features=10, bias=True)\n",
              "  (logsoftmax): LogSoftmax(dim=1)\n",
              ")"
            ]
          },
          "metadata": {},
          "execution_count": 39
        }
      ],
      "source": [
        "# set model in evaluation mode\n",
        "best_model.eval()"
      ]
    },
    {
      "cell_type": "markdown",
      "metadata": {
        "id": "KOU4RRMoStAc"
      },
      "source": [
        "In order to evaluate our trained model, we need to feed the CIFAR10 images reserved for evaluation (the images that we didn't use as part of the training process) through the model. Therefore, let's again define a corresponding PyTorch data loader that feeds the image tensors to our neural network:"
      ]
    },
    {
      "cell_type": "code",
      "execution_count": 40,
      "metadata": {
        "id": "POVczPlMStAc"
      },
      "outputs": [],
      "source": [
        "cifar10_eval_dataloader = torch.utils.data.DataLoader(cifar10_eval_data, batch_size=10000, shuffle=False)"
      ]
    },
    {
      "cell_type": "markdown",
      "metadata": {
        "id": "ubV5RmoRStAd"
      },
      "source": [
        "We will now evaluate the trained model using the same mini-batch approach as we did when training the network and derive the mean negative log-likelihood loss of all mini-batches processed in an epoch:"
      ]
    },
    {
      "cell_type": "code",
      "execution_count": 41,
      "metadata": {
        "id": "VIqFz853StAg",
        "colab": {
          "base_uri": "https://localhost:8080/"
        },
        "outputId": "f15f103d-3a4a-480d-953c-4c091935c1ac"
      },
      "outputs": [
        {
          "output_type": "stream",
          "name": "stdout",
          "text": [
            "[LOG 20240415-21:39:43] eval-loss: 3.602062225341797\n"
          ]
        }
      ],
      "source": [
        "# init collection of mini-batch losses\n",
        "eval_mini_batch_losses = []\n",
        "\n",
        "# iterate over all-mini batches\n",
        "for i, (images, labels) in enumerate(cifar10_eval_dataloader):\n",
        "\n",
        "    # run forward pass through the network\n",
        "    output = best_model(images)\n",
        "\n",
        "    # determine classification loss\n",
        "    loss = nll_loss(output, labels)\n",
        "\n",
        "    # collect mini-batch reconstruction loss\n",
        "    eval_mini_batch_losses.append(loss.data.item())\n",
        "\n",
        "# determine mean min-batch loss of epoch\n",
        "eval_loss = np.mean(eval_mini_batch_losses)\n",
        "\n",
        "# print epoch loss\n",
        "now = datetime.utcnow().strftime(\"%Y%m%d-%H:%M:%S\")\n",
        "print('[LOG {}] eval-loss: {}'.format(str(now), str(eval_loss)))"
      ]
    },
    {
      "cell_type": "markdown",
      "metadata": {
        "id": "bWgyzS7rStAh"
      },
      "source": [
        "Ok, great. The evaluation loss looks in-line with our training loss. Let's now inspect a few sample predictions to get an impression of the model quality. Therefore, we will again pick a random image of our evaluation dataset and retrieve its PyTorch tensor as well as the corresponding label:"
      ]
    },
    {
      "cell_type": "code",
      "execution_count": 42,
      "metadata": {
        "id": "X-QiudbWStAh"
      },
      "outputs": [],
      "source": [
        "# set (random) image id\n",
        "image_id = 777\n",
        "\n",
        "# retrieve image exhibiting the image id\n",
        "cifar10_eval_image, cifar10_eval_label = cifar10_eval_data[image_id]"
      ]
    },
    {
      "cell_type": "markdown",
      "metadata": {
        "id": "9iNuT0yYStAh"
      },
      "source": [
        "Let's now inspect the true class of the image we selected:"
      ]
    },
    {
      "cell_type": "code",
      "execution_count": 43,
      "metadata": {
        "id": "Rz_FzOJzStAi",
        "colab": {
          "base_uri": "https://localhost:8080/",
          "height": 35
        },
        "outputId": "f2a2b8ac-669c-45ec-caaa-a9a201266c0b"
      },
      "outputs": [
        {
          "output_type": "execute_result",
          "data": {
            "text/plain": [
              "'frog'"
            ],
            "application/vnd.google.colaboratory.intrinsic+json": {
              "type": "string"
            }
          },
          "metadata": {},
          "execution_count": 43
        }
      ],
      "source": [
        "cifar10_classes[cifar10_eval_label]"
      ]
    },
    {
      "cell_type": "markdown",
      "metadata": {
        "id": "xaNQQnykStAj"
      },
      "source": [
        "Ok, the randomly selected image should contain a two (2). Let's inspect the image accordingly:"
      ]
    },
    {
      "cell_type": "code",
      "execution_count": 44,
      "metadata": {
        "id": "87CE4V0GStAj",
        "colab": {
          "base_uri": "https://localhost:8080/",
          "height": 469
        },
        "outputId": "182e4247-1ca7-4c4e-ae43-d6c1d72b9fe0"
      },
      "outputs": [
        {
          "output_type": "execute_result",
          "data": {
            "text/plain": [
              "<matplotlib.image.AxesImage at 0x7d6e5d8fb010>"
            ]
          },
          "metadata": {},
          "execution_count": 44
        },
        {
          "output_type": "display_data",
          "data": {
            "text/plain": [
              "<Figure size 640x480 with 1 Axes>"
            ],
            "image/png": "[encoded data removed]"
          },
          "metadata": {}
        }
      ],
      "source": [
        "# define tensor to image transformation\n",
        "trans = torchvision.transforms.ToPILImage()\n",
        "\n",
        "# set image plot title\n",
        "plt.title('Example: {}, Label: {}'.format(str(image_id), str(cifar10_classes[cifar10_eval_label])))\n",
        "\n",
        "# un-normalize cifar 10 image sample\n",
        "cifar10_eval_image_plot = cifar10_eval_image / 2.0 + 0.5\n",
        "\n",
        "# plot cifar 10 image sample\n",
        "plt.imshow(trans(cifar10_eval_image_plot))"
      ]
    },
    {
      "cell_type": "markdown",
      "metadata": {
        "id": "7U6H8ZTYStAj"
      },
      "source": [
        "Ok, let's compare the true label with the prediction of our model:"
      ]
    },
    {
      "cell_type": "code",
      "execution_count": 45,
      "metadata": {
        "id": "mfTcRFlSStAk",
        "colab": {
          "base_uri": "https://localhost:8080/"
        },
        "outputId": "03ff0757-09a6-4b9e-eee4-4d5186250101"
      },
      "outputs": [
        {
          "output_type": "execute_result",
          "data": {
            "text/plain": [
              "tensor([[-2.7675e+01, -3.7634e+01, -1.1153e+01, -1.0390e+01, -7.0252e+00,\n",
              "         -1.5713e+01, -9.3488e-04, -2.1127e+01, -3.7032e+01, -4.3276e+01]],\n",
              "       grad_fn=<LogSoftmaxBackward0>)"
            ]
          },
          "metadata": {},
          "execution_count": 45
        }
      ],
      "source": [
        "best_model(cifar10_eval_image.unsqueeze(0))"
      ]
    },
    {
      "cell_type": "markdown",
      "metadata": {
        "id": "zBDlpNr9StAk"
      },
      "source": [
        "We can even determine the likelihood of the most probable class:"
      ]
    },
    {
      "cell_type": "code",
      "execution_count": 46,
      "metadata": {
        "id": "SmbX6PR9StAk",
        "colab": {
          "base_uri": "https://localhost:8080/",
          "height": 35
        },
        "outputId": "311c5902-c70b-48fa-e371-25b7ad65fbe1"
      },
      "outputs": [
        {
          "output_type": "execute_result",
          "data": {
            "text/plain": [
              "'frog'"
            ],
            "application/vnd.google.colaboratory.intrinsic+json": {
              "type": "string"
            }
          },
          "metadata": {},
          "execution_count": 46
        }
      ],
      "source": [
        "cifar10_classes[torch.argmax(best_model(cifar10_eval_image.unsqueeze(0)), dim=1).item()]"
      ]
    },
    {
      "cell_type": "markdown",
      "metadata": {
        "id": "oG5jQeFUStAk"
      },
      "source": [
        "Let's now obtain the predictions for all the CIFAR-10 images of the evaluation data:"
      ]
    },
    {
      "cell_type": "code",
      "source": [
        "cifar10_eval_dataloader = torch.utils.data.DataLoader(cifar10_eval_data, batch_size=10000, shuffle=False)\n",
        "\n",
        "# Iterate over the dataloader to get batches of data\n",
        "for inputs, _ in cifar10_eval_dataloader:\n",
        "    predictions = torch.argmax(best_model(inputs), dim=1)\n",
        "    break  # Assuming you only want to process the first batch"
      ],
      "metadata": {
        "id": "lQy3IPQjw9PN"
      },
      "execution_count": 51,
      "outputs": []
    },
    {
      "cell_type": "markdown",
      "metadata": {
        "id": "GhzkfmMnStAl"
      },
      "source": [
        "Furthermore, let's obtain the overall classification accuracy:"
      ]
    },
    {
      "cell_type": "code",
      "execution_count": 52,
      "metadata": {
        "id": "21aw2F9NStAl",
        "colab": {
          "base_uri": "https://localhost:8080/"
        },
        "outputId": "ebea9005-cafb-4f6b-d4a3-23449a70cdba"
      },
      "outputs": [
        {
          "output_type": "execute_result",
          "data": {
            "text/plain": [
              "0.6133"
            ]
          },
          "metadata": {},
          "execution_count": 52
        }
      ],
      "source": [
        "metrics.accuracy_score(cifar10_eval_data.targets, predictions.detach())"
      ]
    },
    {
      "cell_type": "markdown",
      "metadata": {
        "id": "5tRVFBApStAl"
      },
      "source": [
        "Let's also inspect the confusion matrix of the model predictions to determine major sources of misclassification:"
      ]
    },
    {
      "cell_type": "code",
      "execution_count": 53,
      "metadata": {
        "id": "LBnBNhs2StAm",
        "colab": {
          "base_uri": "https://localhost:8080/",
          "height": 472
        },
        "outputId": "061665e3-9869-4d9e-fd69-900afcf1b181"
      },
      "outputs": [
        {
          "output_type": "display_data",
          "data": {
            "text/plain": [
              "<Figure size 640x480 with 1 Axes>"
            ],
            "image/png": "[encoded data removed]"
          },
          "metadata": {}
        }
      ],
      "source": [
        "# determine classification matrix of the predicted and target classes\n",
        "mat = confusion_matrix(cifar10_eval_data.targets, predictions.detach())\n",
        "\n",
        "# plot corresponding confusion matrix\n",
        "sns.heatmap(mat.T, square=True, annot=True, fmt='d', cbar=False, cmap='YlOrRd_r', xticklabels=cifar10_classes, yticklabels=cifar10_classes)\n",
        "plt.title('CIFAR-10 classification matrix')\n",
        "plt.xlabel('[true label]')\n",
        "plt.ylabel('[predicted label]');"
      ]
    },
    {
      "cell_type": "markdown",
      "metadata": {
        "id": "r26bItVSStAn"
      },
      "source": [
        "Ok, we can easily see that our current model confuses images of cats and dogs as well as images of trucks and cars quite often. This is again not surprising since those image categories exhibit a high semantic and therefore visual similarity."
      ]
    }
  ],
  "metadata": {
    "kernelspec": {
      "display_name": "Python 3",
      "name": "python3"
    },
    "language_info": {
      "codemirror_mode": {
        "name": "ipython",
        "version": 3
      },
      "file_extension": ".py",
      "mimetype": "text/x-python",
      "name": "python",
      "nbconvert_exporter": "python",
      "pygments_lexer": "ipython3",
      "version": "3.8.5"
    },
    "toc": {
      "base_numbering": 1,
      "nav_menu": {},
      "number_sections": false,
      "sideBar": true,
      "skip_h1_title": false,
      "title_cell": "Table of Contents",
      "title_sidebar": "Contents",
      "toc_cell": false,
      "toc_position": {
        "height": "calc(100% - 180px)",
        "left": "10px",
        "top": "150px",
        "width": "254.39999389648438px"
      },
      "toc_section_display": true,
      "toc_window_display": true
    },
    "colab": {
      "provenance": [],
      "gpuType": "T4"
    },
    "accelerator": "GPU"
  },
  "nbformat": 4,
  "nbformat_minor": 0
}