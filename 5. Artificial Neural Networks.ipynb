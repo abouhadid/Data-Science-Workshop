{
  "cells": [
    {
      "cell_type": "markdown",
      "metadata": {
        "id": "K_LOrNWDanZL"
      },
      "source": [
        "In this notebook, we will implement, train, and apply an **Artificial Neural Network (ANN)** using a Python library `PyTorch``.\n",
        "\n",
        "We will use the implemented neural network to classify images of **handwritten digits** (i.e., data without defined categories or groups)."
      ]
    },
    {
      "cell_type": "markdown",
      "metadata": {
        "id": "ma7zyEScanZN"
      },
      "source": [
        "# 0. LIBRARIES IMPORT"
      ]
    },
    {
      "cell_type": "code",
      "execution_count": 1,
      "metadata": {
        "id": "GzSemUnAanZR"
      },
      "outputs": [],
      "source": [
        "# import standard python libraries\n",
        "import os, urllib, io\n",
        "from datetime import datetime\n",
        "import numpy as np\n",
        "\n",
        "# import the PyTorch deep learning libary\n",
        "import torch, torchvision\n",
        "import torch.nn.functional as F\n",
        "from torch import nn, optim\n",
        "from torch.autograd import Variable\n",
        "\n",
        "# import sklearn classification evaluation library\n",
        "from sklearn import metrics\n",
        "from sklearn.metrics import classification_report, confusion_matrix\n",
        "\n",
        "# import matplotlib, seaborn, and PIL data visualization libary\n",
        "import matplotlib.pyplot as plt\n",
        "import seaborn as sns\n",
        "from PIL import Image\n"
      ]
    },
    {
      "cell_type": "markdown",
      "metadata": {
        "id": "DhN0WHzfanZT"
      },
      "source": [
        "Create a structure of notebook sub-directories to store the data as well as the trained neural network models:"
      ]
    },
    {
      "cell_type": "code",
      "execution_count": 6,
      "metadata": {
        "id": "O3IetXaDanZT"
      },
      "outputs": [],
      "source": [
        "if not os.path.exists('./data'): os.makedirs('./data')  # create data directory\n",
        "if not os.path.exists('./models'): os.makedirs('./models')  # create trained models directory"
      ]
    },
    {
      "cell_type": "code",
      "execution_count": 3,
      "metadata": {
        "id": "fOGGNxv6anZT",
        "colab": {
          "base_uri": "https://localhost:8080/"
        },
        "outputId": "5afa86e0-6fec-4f86-9326-85689d302e67"
      },
      "outputs": [
        {
          "output_type": "execute_result",
          "data": {
            "text/plain": [
              "<torch._C.Generator at 0x78350afad7b0>"
            ]
          },
          "metadata": {},
          "execution_count": 3
        }
      ],
      "source": [
        "# init deterministic seed\n",
        "seed_value = 1234\n",
        "np.random.seed(seed_value) # set numpy seed\n",
        "torch.manual_seed(seed_value) # set pytorch seed CPU"
      ]
    },
    {
      "cell_type": "markdown",
      "metadata": {
        "id": "7FB9mIeqanZT"
      },
      "source": [
        "Enable GPU computing:"
      ]
    },
    {
      "cell_type": "code",
      "execution_count": 4,
      "metadata": {
        "id": "KBJxkPOGanZT"
      },
      "outputs": [],
      "source": [
        "# set gpu enabled flag\n",
        "use_gpu = True\n",
        "\n",
        "# init deterministic GPU seed\n",
        "torch.cuda.manual_seed(seed_value)"
      ]
    },
    {
      "cell_type": "code",
      "execution_count": 5,
      "metadata": {
        "id": "sb3NfUQaanZU",
        "colab": {
          "base_uri": "https://localhost:8080/"
        },
        "outputId": "3050a968-771b-4ab4-e916-4e849b813542"
      },
      "outputs": [
        {
          "output_type": "stream",
          "name": "stdout",
          "text": [
            "Sun Apr 14 19:29:48 2024       \n",
            "+---------------------------------------------------------------------------------------+\n",
            "| NVIDIA-SMI 535.104.05             Driver Version: 535.104.05   CUDA Version: 12.2     |\n",
            "|-----------------------------------------+----------------------+----------------------+\n",
            "| GPU  Name                 Persistence-M | Bus-Id        Disp.A | Volatile Uncorr. ECC |\n",
            "| Fan  Temp   Perf          Pwr:Usage/Cap |         Memory-Usage | GPU-Util  Compute M. |\n",
            "|                                         |                      |               MIG M. |\n",
            "|=========================================+======================+======================|\n",
            "|   0  Tesla T4                       Off | 00000000:00:04.0 Off |                    0 |\n",
            "| N/A   43C    P8               9W /  70W |      0MiB / 15360MiB |      0%      Default |\n",
            "|                                         |                      |                  N/A |\n",
            "+-----------------------------------------+----------------------+----------------------+\n",
            "                                                                                         \n",
            "+---------------------------------------------------------------------------------------+\n",
            "| Processes:                                                                            |\n",
            "|  GPU   GI   CI        PID   Type   Process name                            GPU Memory |\n",
            "|        ID   ID                                                             Usage      |\n",
            "|=======================================================================================|\n",
            "|  No running processes found                                                           |\n",
            "+---------------------------------------------------------------------------------------+\n"
          ]
        }
      ],
      "source": [
        "#check\n",
        "!nvidia-smi"
      ]
    },
    {
      "cell_type": "markdown",
      "source": [
        "# 1. DATA PROCESSING"
      ],
      "metadata": {
        "id": "xFJMmIZlFnAD"
      }
    },
    {
      "cell_type": "markdown",
      "metadata": {
        "id": "5qME8_9RanZU"
      },
      "source": [
        "## a. data acquisition"
      ]
    },
    {
      "cell_type": "markdown",
      "metadata": {
        "id": "rAe6IucdanZU"
      },
      "source": [
        "The **MNIST database** (**M**odified **N**ational **I**nstitute of **S**tandards and **T**echnology database) is a large database of handwritten digits that is commonly used for training various image processing systems. The database is widely used for training and testing in the field of machine learning."
      ]
    },
    {
      "cell_type": "markdown",
      "metadata": {
        "id": "R7b1OSvpanZU"
      },
      "source": [
        "The MNIST database contains **60,000 training images** and **10,000 evaluation images**. The handwritten digits contained in each fixe-sized image have been size-normalized and centred. The MNIST dataset is a great dataset to start with when learning about machine learning techniques and pattern recognition methods on real-world data. It requires minimal efforts on preprocessing and formatting the distinct images."
      ]
    },
    {
      "cell_type": "markdown",
      "metadata": {
        "id": "oxK9o-KdanZV"
      },
      "source": [
        "Let's download the training data"
      ]
    },
    {
      "cell_type": "code",
      "execution_count": null,
      "metadata": {
        "id": "CsumRM7LanZV"
      },
      "outputs": [],
      "source": [
        "train_path = './data/train_mnist'\n",
        "\n",
        "# define pytorch transformation into tensor format\n",
        "transf = torchvision.transforms.Compose([torchvision.transforms.ToTensor()])\n",
        "\n",
        "# download and transform training images\n",
        "mnist_train_data = torchvision.datasets.MNIST(root=train_path, train=True, transform=transf, download=True)"
      ]
    },
    {
      "cell_type": "code",
      "execution_count": 8,
      "metadata": {
        "id": "GrfYI8EkanZV",
        "colab": {
          "base_uri": "https://localhost:8080/"
        },
        "outputId": "7d2b4381-24c8-403a-cbb9-1ccee93ab3b8"
      },
      "outputs": [
        {
          "output_type": "execute_result",
          "data": {
            "text/plain": [
              "60000"
            ]
          },
          "metadata": {},
          "execution_count": 8
        }
      ],
      "source": [
        "# determine the number of training data images\n",
        "len(mnist_train_data)"
      ]
    },
    {
      "cell_type": "markdown",
      "metadata": {
        "id": "2No193v4anZV"
      },
      "source": [
        "let's inspect some samples:"
      ]
    },
    {
      "cell_type": "code",
      "execution_count": null,
      "metadata": {
        "id": "Uexhv19IanZV"
      },
      "outputs": [],
      "source": [
        "# select and set a (random) image id\n",
        "image_id = 7779\n",
        "\n",
        "# retrieve image exhibiting the image id\n",
        "mnist_train_data[image_id]"
      ]
    },
    {
      "cell_type": "markdown",
      "metadata": {
        "id": "EvTIQP94anZV"
      },
      "source": [
        "Ok, that doesn't seem right :). Let's now seperate the image from its label information:"
      ]
    },
    {
      "cell_type": "code",
      "execution_count": 10,
      "metadata": {
        "id": "ANoazDDPanZZ"
      },
      "outputs": [],
      "source": [
        "mnist_train_image, mnist_train_label = mnist_train_data[image_id]"
      ]
    },
    {
      "cell_type": "markdown",
      "metadata": {
        "id": "xo7bvibfanZZ"
      },
      "source": [
        "Great, let's now visually inspect our sample image:"
      ]
    },
    {
      "cell_type": "code",
      "execution_count": 11,
      "metadata": {
        "id": "pxVxKe03anZb",
        "colab": {
          "base_uri": "https://localhost:8080/",
          "height": 469
        },
        "outputId": "f90442f0-7ec3-4f9d-8843-66867b84f8f4"
      },
      "outputs": [
        {
          "output_type": "execute_result",
          "data": {
            "text/plain": [
              "<matplotlib.image.AxesImage at 0x7834219a4cd0>"
            ]
          },
          "metadata": {},
          "execution_count": 11
        },
        {
          "output_type": "display_data",
          "data": {
            "text/plain": [
              "<Figure size 640x480 with 1 Axes>"
            ],
            "image/png": "[encoded data removed]"
          },
          "metadata": {}
        }
      ],
      "source": [
        "# define tensor to image transformation\n",
        "trans = torchvision.transforms.ToPILImage()\n",
        "\n",
        "# set image plot title\n",
        "plt.title('Example: {}, Label: {}'.format(str(image_id), str(mnist_train_label)))\n",
        "\n",
        "# plot mnist handwritten digit sample\n",
        "plt.imshow(trans(mnist_train_image), cmap='gray')"
      ]
    },
    {
      "cell_type": "markdown",
      "metadata": {
        "id": "pEYxa1lkanZc"
      },
      "source": [
        "let's do the same thing for evaluation data:"
      ]
    },
    {
      "cell_type": "code",
      "execution_count": null,
      "metadata": {
        "id": "HRaqWCd9anZc"
      },
      "outputs": [],
      "source": [
        "eval_path = './data/eval_mnist'\n",
        "\n",
        "# define pytorch transformation into tensor format\n",
        "transf = torchvision.transforms.Compose([torchvision.transforms.ToTensor()])\n",
        "\n",
        "# download and transform training images\n",
        "mnist_eval_data = torchvision.datasets.MNIST(root=eval_path, train=False, transform=transf, download=True)"
      ]
    },
    {
      "cell_type": "code",
      "execution_count": 13,
      "metadata": {
        "id": "BI4wX8laanZd",
        "colab": {
          "base_uri": "https://localhost:8080/"
        },
        "outputId": "f0bf9da6-6fb9-47b0-a177-69e56d4d32e2"
      },
      "outputs": [
        {
          "output_type": "execute_result",
          "data": {
            "text/plain": [
              "10000"
            ]
          },
          "metadata": {},
          "execution_count": 13
        }
      ],
      "source": [
        "# determine the number of evaluation data images\n",
        "len(mnist_eval_data)"
      ]
    },
    {
      "cell_type": "markdown",
      "metadata": {
        "id": "5bZAwzE3anZe"
      },
      "source": [
        "# 2. NEURAL NETWORK IMPLEMENTATION"
      ]
    },
    {
      "cell_type": "markdown",
      "metadata": {
        "id": "BhHfKxitanZe"
      },
      "source": [
        "In this section we, will implement the architecture of the **neural network** we aim to utilize to learn a model that is capable to classify the 28x28 pixel MNIST images of handwritten digits."
      ]
    },
    {
      "cell_type": "markdown",
      "metadata": {
        "id": "uivpt-iFanZf"
      },
      "source": [
        "## a. architecture"
      ]
    },
    {
      "cell_type": "markdown",
      "metadata": {
        "id": "fNHN92IPanZf"
      },
      "source": [
        "The neural network, which we name **'MNISTNet'** consists of three **fully-connected layers** (including an “input layer” and two hidden layers). Furthermore, the **MNISTNet** should encompass the following number of neurons per layer: 100 (layer 1), 50 (layer 2) and 10 (layer 3). Meaning the first layer consists of 100 neurons, the second layer of 50 neurons and third layer of 10 neurons (the number of digit classes we aim to classify."
      ]
    },
    {
      "cell_type": "code",
      "execution_count": 14,
      "metadata": {
        "id": "ahejCeU5anZg"
      },
      "outputs": [],
      "source": [
        "# implement the MNISTNet network architecture\n",
        "class MNISTNet(nn.Module):\n",
        "\n",
        "    # define the class constructor\n",
        "    def __init__(self):\n",
        "\n",
        "        # call super class constructor\n",
        "        super(MNISTNet, self).__init__()\n",
        "\n",
        "        # specify fully-connected (fc) layer 1 - in 28*28, out 100\n",
        "        self.linear1 = nn.Linear(28*28, 100, bias=True) # the linearity W*x+b\n",
        "        self.relu1 = nn.ReLU(inplace=True) # the non-linearity\n",
        "\n",
        "        # specify fc layer 2 - in 100, out 50\n",
        "        self.linear2 = nn.Linear(100, 50, bias=True) # the linearity W*x+b\n",
        "        self.relu2 = nn.ReLU(inplace=True) # the non-linarity\n",
        "\n",
        "        # specify fc layer 3 - in 50, out 10\n",
        "        self.linear3 = nn.Linear(50, 10) # the linearity W*x+b\n",
        "\n",
        "        # add a softmax to the last layer\n",
        "        self.logsoftmax = nn.LogSoftmax(dim=1) # the softmax\n",
        "\n",
        "    # define network forward pass\n",
        "    def forward(self, images):\n",
        "\n",
        "        # reshape image pixels\n",
        "        x = images.view(-1, 28*28)\n",
        "\n",
        "        # define fc layer 1 forward pass\n",
        "        x = self.relu1(self.linear1(x))\n",
        "\n",
        "        # define fc layer 2 forward pass\n",
        "        x = self.relu2(self.linear2(x))\n",
        "\n",
        "        # define layer 3 forward pass\n",
        "        x = self.logsoftmax(self.linear3(x))\n",
        "\n",
        "        # return forward pass result\n",
        "        return x"
      ]
    },
    {
      "cell_type": "markdown",
      "metadata": {
        "id": "6Dnb-g3ZanZg"
      },
      "source": [
        "The **softmax function**, also known as the normalized exponential function, is a function that takes as input a vector of K real numbers, and normalizes it into a probability distribution consisting of K probabilities.\n",
        "\n",
        "That is, prior to applying softmax, some vector components could be negative, or greater than one; and might not sum to 1; but after application of the softmax, each component will be in the interval $(0,1)$, and the components will add up to 1, so that they can be interpreted as probabilities. In general, the softmax function $\\sigma :\\mathbb {R} ^{K}\\to \\mathbb {R} ^{K}$ is defined by the formula:"
      ]
    },
    {
      "cell_type": "markdown",
      "metadata": {
        "id": "FrClqfucanZh"
      },
      "source": [
        "<center> $\\sigma (\\mathbf {z} )_{i}=\\ln ({e^{z_{i}} / \\sum _{j=1}^{K}e^{z_{j}}})$ </center>"
      ]
    },
    {
      "cell_type": "markdown",
      "metadata": {
        "id": "OXSTCYr7anZh"
      },
      "source": [
        "for $i = 1, …, K$ and ${\\mathbf {z}}=(z_{1},\\ldots ,z_{K})\\in \\mathbb {R} ^{K}$ (Source: https://en.wikipedia.org/wiki/Softmax_function )."
      ]
    },
    {
      "cell_type": "code",
      "execution_count": 15,
      "metadata": {
        "id": "XO6cJIk3anZi"
      },
      "outputs": [],
      "source": [
        "model = MNISTNet()"
      ]
    },
    {
      "cell_type": "markdown",
      "metadata": {
        "id": "htJcD4xIanZi"
      },
      "source": [
        "Once the model is initialized, we can visualize the model structure and review the implemented network architecture:"
      ]
    },
    {
      "cell_type": "code",
      "execution_count": 16,
      "metadata": {
        "id": "vl9KjpV0anZi",
        "colab": {
          "base_uri": "https://localhost:8080/"
        },
        "outputId": "2511eed9-d18a-40c5-c36f-49b4a2e7cd5c"
      },
      "outputs": [
        {
          "output_type": "stream",
          "name": "stdout",
          "text": [
            "[LOG] MNISTNet architecture:\n",
            "\n",
            "MNISTNet(\n",
            "  (linear1): Linear(in_features=784, out_features=100, bias=True)\n",
            "  (relu1): ReLU(inplace=True)\n",
            "  (linear2): Linear(in_features=100, out_features=50, bias=True)\n",
            "  (relu2): ReLU(inplace=True)\n",
            "  (linear3): Linear(in_features=50, out_features=10, bias=True)\n",
            "  (logsoftmax): LogSoftmax(dim=1)\n",
            ")\n",
            "\n"
          ]
        }
      ],
      "source": [
        "# print the initialized architectures\n",
        "print('[LOG] MNISTNet architecture:\\n\\n{}\\n'.format(model))"
      ]
    },
    {
      "cell_type": "markdown",
      "metadata": {
        "id": "4kKjWAkBanZi"
      },
      "source": [
        "Finally, let's have a look into the number of model parameters that we aim to train in the next steps:"
      ]
    },
    {
      "cell_type": "code",
      "execution_count": 19,
      "metadata": {
        "id": "g4QznnG0anZj",
        "colab": {
          "base_uri": "https://localhost:8080/"
        },
        "outputId": "51148c28-eae2-4751-9960-34d75ca1b859"
      },
      "outputs": [
        {
          "output_type": "stream",
          "name": "stdout",
          "text": [
            "[LOG] Number of to be trained MNISTNet model parameters: 84060.\n"
          ]
        }
      ],
      "source": [
        "# init the number of model parameters\n",
        "num_params = 0\n",
        "\n",
        "# iterate over the distinct parameters\n",
        "for param in model.parameters():\n",
        "\n",
        "    # collect number of parameters\n",
        "    num_params += param.numel()\n",
        "\n",
        "# print the number of model paramters\n",
        "print('[LOG] Number of to be trained MNISTNet model parameters: {}.'.format(num_params))"
      ]
    },
    {
      "cell_type": "code",
      "execution_count": 20,
      "metadata": {
        "id": "16YIdMEwanZj"
      },
      "outputs": [],
      "source": [
        "# case: gpu computing enabled\n",
        "if use_gpu == True:\n",
        "\n",
        "  # push model to the GPU\n",
        "  model = model.cuda()"
      ]
    },
    {
      "cell_type": "markdown",
      "metadata": {
        "id": "0hbOiAa2anZj"
      },
      "source": [
        "## b. loss function"
      ]
    },
    {
      "cell_type": "markdown",
      "metadata": {
        "id": "3-DpBIL9anZj"
      },
      "source": [
        "Prior to starting the training, we need to define an appropriate loss function. Here, we aim to train our model to learn a set of model parameters $\\theta$ that minimize the classification error of the true class $c^{i}$ of a given handwritten digit image $x^{i}$ and its predicted class $\\hat{c}^{i} = f_\\theta(x^{i})$ as faithfully as possible.\n",
        "\n",
        "Thereby, the training objective is to learn a set of optimal model parameters $\\theta^*$ that optimize $\\arg\\min_{\\theta} \\|C - f_\\theta(X)\\|$ over all training images in the MNIST dataset. To achieve this optimization objective, one typically minimizes a loss function $\\mathcal{L_{\\theta}}$ as part of the network training. In this lab we use the **'Negative Log Likelihood (NLL)'** loss, defined by:\n",
        "\n",
        "<center> $\\mathcal{L}^{NLL}_{\\theta} (c_i, \\hat c_i) = - \\frac{1}{N} \\sum_{i=1}^N \\log (\\hat{c}_i) $, </center>"
      ]
    },
    {
      "cell_type": "markdown",
      "metadata": {
        "id": "SbYx1QU4anZj"
      },
      "source": [
        "for a set of $n$-MNIST images $x^{i}$, $i=1,...,n$ and their respective predicted class labels $\\hat{c}^{i}$. This is summed for all the correct classes.\n"
      ]
    },
    {
      "cell_type": "markdown",
      "metadata": {
        "id": "GhrU_z-sanZk"
      },
      "source": [
        "During training the **NLL** loss will penalize models that result in a high classification error between the predicted class labels $\\hat{c}^{i}$ and their respective true class label $c^{i}$."
      ]
    },
    {
      "cell_type": "code",
      "execution_count": 21,
      "metadata": {
        "id": "yesxAr0yanZn"
      },
      "outputs": [],
      "source": [
        "# define the optimization criterion / loss function\n",
        "nll_loss = nn.NLLLoss()"
      ]
    },
    {
      "cell_type": "code",
      "execution_count": 22,
      "metadata": {
        "id": "KerDiSWlanZn"
      },
      "outputs": [],
      "source": [
        "# case: gpu computing enabled\n",
        "if use_gpu == True:\n",
        "\n",
        "  # push the loss calculation to the GPU\n",
        "  nll_loss = nll_loss.cuda()"
      ]
    },
    {
      "cell_type": "markdown",
      "metadata": {
        "id": "cf3SCYpsanZn"
      },
      "source": [
        "## c. training"
      ]
    },
    {
      "cell_type": "markdown",
      "metadata": {
        "id": "VeVTen2LanZo"
      },
      "source": [
        "So far, we have pre-processed the dataset, implemented the ANN and defined the classification error. Let's now start to train a corresponding model for **20 epochs** and a **mini-batch size of 128** MNIST images per batch. This implies that the whole dataset will be fed to the ANN 20 times in chunks of 128 images yielding to **469 mini-batches** (60.000 images / 128 images per mini-batch) per epoch."
      ]
    },
    {
      "cell_type": "code",
      "execution_count": 23,
      "metadata": {
        "id": "MvrfwPHJanZo"
      },
      "outputs": [],
      "source": [
        "# specify the training parameters\n",
        "num_epochs = 20 # number of training epochs\n",
        "mini_batch_size = 128 # size of the mini-batches"
      ]
    },
    {
      "cell_type": "markdown",
      "metadata": {
        "id": "WLZbzWCUanZp"
      },
      "source": [
        "We will use the **Stochastic Gradient Descent (SGD) optimization** and set the learning-rate $l = 0.001$. Each mini-batch step the optimizer will update the model parameters $\\theta$ values according to the degree of classification error (the MSE loss)."
      ]
    },
    {
      "cell_type": "code",
      "execution_count": 24,
      "metadata": {
        "id": "6_Xzg1E6anZp"
      },
      "outputs": [],
      "source": [
        "# define learning rate and optimization strategy\n",
        "learning_rate = 0.001\n",
        "optimizer = optim.SGD(params=model.parameters(), lr=learning_rate)"
      ]
    },
    {
      "cell_type": "markdown",
      "metadata": {
        "id": "3nWwxIjuanZp"
      },
      "source": [
        "Furthermore, lets specify and instantiate a corresponding PyTorch data loader that feeds the image tensors to our neural network:"
      ]
    },
    {
      "cell_type": "code",
      "execution_count": 25,
      "metadata": {
        "id": "W7v_dkaJanZp"
      },
      "outputs": [],
      "source": [
        "mnist_train_dataloader = torch.utils.data.DataLoader(mnist_train_data, batch_size=mini_batch_size, shuffle=True)"
      ]
    },
    {
      "cell_type": "markdown",
      "metadata": {
        "id": "i_6mDmhqanZq"
      },
      "source": [
        "Finally, we start training the model. The detailed training procedure for each mini-batch is performed as follows:\n",
        "\n",
        ">1. do a forward pass through the MNISTNet network,\n",
        ">2. compute the negative log likelihood classification error $\\mathcal{L}^{NLL}_{\\theta}(c^{i};\\hat{c}^{i})$,\n",
        ">3. do a backward pass through the MNISTNet network, and\n",
        ">4. update the parameters of the network $f_\\theta(\\cdot)$.\n",
        "\n",
        "To ensure learning while training our ANN model, we will monitor whether the loss decreases with progressing training. Therefore, we obtain and evaluate the classification performance of the entire training dataset after each training epoch. Based on this evaluation, we can conclude on the training progress and whether the loss is converging (indicating that the model might not improve any further).\n",
        "\n",
        "The following elements of the network training code below should be given particular attention:\n",
        "\n",
        ">- `loss.backward()` computes the gradients based on the magnitude of the reconstruction loss,\n",
        ">- `optimizer.step()` updates the network parameters based on the gradient."
      ]
    },
    {
      "cell_type": "code",
      "execution_count": 26,
      "metadata": {
        "id": "sI0j-GzianZq",
        "colab": {
          "base_uri": "https://localhost:8080/"
        },
        "outputId": "4a17b1d4-682a-468a-af64-ce1e469a1922"
      },
      "outputs": [
        {
          "output_type": "stream",
          "name": "stdout",
          "text": [
            "[LOG 20240414-20:02:12] epoch: 0 train-loss: 2.3002859676824703\n",
            "[LOG 20240414-20:02:18] epoch: 1 train-loss: 2.2875820238198807\n",
            "[LOG 20240414-20:02:25] epoch: 2 train-loss: 2.273266054165643\n",
            "[LOG 20240414-20:02:32] epoch: 3 train-loss: 2.255962809519981\n",
            "[LOG 20240414-20:02:38] epoch: 4 train-loss: 2.233992708771468\n",
            "[LOG 20240414-20:02:46] epoch: 5 train-loss: 2.2050284302310903\n",
            "[LOG 20240414-20:02:52] epoch: 6 train-loss: 2.166054117145823\n",
            "[LOG 20240414-20:02:59] epoch: 7 train-loss: 2.113092363516151\n",
            "[LOG 20240414-20:03:06] epoch: 8 train-loss: 2.0432703972879502\n",
            "[LOG 20240414-20:03:12] epoch: 9 train-loss: 1.9543514221207674\n",
            "[LOG 20240414-20:03:19] epoch: 10 train-loss: 1.84480736377651\n",
            "[LOG 20240414-20:03:25] epoch: 11 train-loss: 1.7174425023451034\n",
            "[LOG 20240414-20:03:32] epoch: 12 train-loss: 1.5789194696747673\n",
            "[LOG 20240414-20:03:39] epoch: 13 train-loss: 1.4382509643843433\n",
            "[LOG 20240414-20:03:45] epoch: 14 train-loss: 1.3051628644532487\n",
            "[LOG 20240414-20:03:52] epoch: 15 train-loss: 1.1862666346371047\n",
            "[LOG 20240414-20:03:58] epoch: 16 train-loss: 1.0839627414369888\n",
            "[LOG 20240414-20:04:12] epoch: 17 train-loss: 0.9971767764355837\n",
            "[LOG 20240414-20:04:22] epoch: 18 train-loss: 0.9235375048255107\n",
            "[LOG 20240414-20:04:32] epoch: 19 train-loss: 0.8610758328996996\n"
          ]
        }
      ],
      "source": [
        "# init collection of training epoch losses\n",
        "train_epoch_losses = []\n",
        "\n",
        "# set the model in training mode\n",
        "model.train()\n",
        "\n",
        "# train the MNISTNet model\n",
        "for epoch in range(num_epochs):\n",
        "\n",
        "    # init collection of mini-batch losses\n",
        "    train_mini_batch_losses = []\n",
        "\n",
        "    # iterate over all-mini batches\n",
        "    for i, (images, labels) in enumerate(mnist_train_dataloader):\n",
        "\n",
        "        # case: gpu computing enabled\n",
        "        if use_gpu == True:\n",
        "\n",
        "          # convert images and labels to cuda tensor\n",
        "          images = images.cuda()\n",
        "          labels = labels.cuda()\n",
        "\n",
        "        # run forward pass through the network\n",
        "        output = model(images)\n",
        "\n",
        "        # reset graph gradients\n",
        "        model.zero_grad()\n",
        "\n",
        "        # determine classification loss\n",
        "        loss = nll_loss(output, labels)\n",
        "\n",
        "        # run backward pass\n",
        "        loss.backward()\n",
        "\n",
        "        # update network paramaters\n",
        "        optimizer.step()\n",
        "\n",
        "        # collect mini-batch reconstruction loss\n",
        "        train_mini_batch_losses.append(loss.data.item())\n",
        "\n",
        "    # determine mean min-batch loss of epoch\n",
        "    train_epoch_loss = np.mean(train_mini_batch_losses)\n",
        "\n",
        "    # print epoch loss\n",
        "    now = datetime.utcnow().strftime(\"%Y%m%d-%H:%M:%S\")\n",
        "    print('[LOG {}] epoch: {} train-loss: {}'.format(str(now), str(epoch), str(train_epoch_loss)))\n",
        "\n",
        "    # save model to local directory\n",
        "    model_name = 'mnist_model_epoch_{}.pth'.format(str(epoch))\n",
        "    torch.save(model.state_dict(), os.path.join(\"./models\", model_name))\n",
        "\n",
        "    # determine mean min-batch loss of epoch\n",
        "    train_epoch_losses.append(train_epoch_loss)"
      ]
    },
    {
      "cell_type": "markdown",
      "metadata": {
        "id": "Hp70BxbqanZq"
      },
      "source": [
        "let's visualize and inspect the training loss per epoch:"
      ]
    },
    {
      "cell_type": "code",
      "execution_count": 27,
      "metadata": {
        "id": "s3Cf9jJAanZq",
        "colab": {
          "base_uri": "https://localhost:8080/",
          "height": 477
        },
        "outputId": "b8a27e9c-3f06-4d98-88b3-10fd27e62d82"
      },
      "outputs": [
        {
          "output_type": "display_data",
          "data": {
            "text/plain": [
              "<Figure size 640x480 with 1 Axes>"
            ],
            "image/png": "[encoded data removed]"
          },
          "metadata": {}
        }
      ],
      "source": [
        "# prepare plot\n",
        "fig = plt.figure()\n",
        "ax = fig.add_subplot(111)\n",
        "\n",
        "# add grid\n",
        "ax.grid(linestyle='dotted')\n",
        "\n",
        "# plot the training epochs vs. the epochs' classification error\n",
        "ax.plot(np.array(range(1, len(train_epoch_losses)+1)), train_epoch_losses, label='epoch loss (blue)')\n",
        "\n",
        "# add axis legends\n",
        "ax.set_xlabel(\"[training epoch $e_i$]\", fontsize=10)\n",
        "ax.set_ylabel(\"[Classification Error $\\mathcal{L}^{NLL}$]\", fontsize=10)\n",
        "\n",
        "# set plot legend\n",
        "plt.legend(loc=\"upper right\", numpoints=1, fancybox=True)\n",
        "\n",
        "# add plot title\n",
        "plt.title('Training Epochs $e_i$ vs. Classification Error $L^{NLL}$', fontsize=10);"
      ]
    },
    {
      "cell_type": "markdown",
      "metadata": {
        "id": "-umhIfjranZr"
      },
      "source": [
        "## d. evaluation"
      ]
    },
    {
      "cell_type": "markdown",
      "metadata": {
        "id": "PINSwDGpanZr"
      },
      "source": [
        "Before evaluating our model let's load the best performing model."
      ]
    },
    {
      "cell_type": "code",
      "execution_count": 30,
      "metadata": {
        "id": "Kc2StJV1anZr",
        "colab": {
          "base_uri": "https://localhost:8080/"
        },
        "outputId": "c829608d-5164-4fe3-b550-8531110a6ed3"
      },
      "outputs": [
        {
          "output_type": "execute_result",
          "data": {
            "text/plain": [
              "<All keys matched successfully>"
            ]
          },
          "metadata": {},
          "execution_count": 30
        }
      ],
      "source": [
        "# restore pre-trained model snapshot\n",
        "best_model_name = 'https://raw.githubusercontent.com/financial-data-science/CFDS-Notebooks/master/lab_11/models/mnist_model_epoch_100.pth'\n",
        "\n",
        "# read stored model from the remote location\n",
        "model_bytes = urllib.request.urlopen(best_model_name)\n",
        "\n",
        "# load model tensor from io.BytesIO object\n",
        "model_buffer = io.BytesIO(model_bytes.read())\n",
        "\n",
        "# init pre-trained model class\n",
        "best_model = MNISTNet()\n",
        "\n",
        "# load pre-trained models\n",
        "best_model.load_state_dict(torch.load(model_buffer, map_location=torch.device('cpu')))"
      ]
    },
    {
      "cell_type": "markdown",
      "metadata": {
        "id": "Ffy8PAGLanZr"
      },
      "source": [
        "Let's inspect if the model was loaded successfully:"
      ]
    },
    {
      "cell_type": "code",
      "execution_count": 31,
      "metadata": {
        "id": "gfPZEZN9anZs",
        "colab": {
          "base_uri": "https://localhost:8080/"
        },
        "outputId": "28ec37d3-c970-46c0-9b92-2c0c8704e1c0"
      },
      "outputs": [
        {
          "output_type": "execute_result",
          "data": {
            "text/plain": [
              "MNISTNet(\n",
              "  (linear1): Linear(in_features=784, out_features=100, bias=True)\n",
              "  (relu1): ReLU(inplace=True)\n",
              "  (linear2): Linear(in_features=100, out_features=50, bias=True)\n",
              "  (relu2): ReLU(inplace=True)\n",
              "  (linear3): Linear(in_features=50, out_features=10, bias=True)\n",
              "  (logsoftmax): LogSoftmax(dim=1)\n",
              ")"
            ]
          },
          "metadata": {},
          "execution_count": 31
        }
      ],
      "source": [
        "# set model in evaluation mode\n",
        "best_model.eval()"
      ]
    },
    {
      "cell_type": "markdown",
      "metadata": {
        "id": "WbauN_lTanZs"
      },
      "source": [
        "To evaluate our trained model, we need to feed the MNIST images reserved for evaluation:"
      ]
    },
    {
      "cell_type": "code",
      "execution_count": 32,
      "metadata": {
        "id": "z8xiRpDlanZs"
      },
      "outputs": [],
      "source": [
        "mnist_eval_dataloader = torch.utils.data.DataLoader(mnist_eval_data, batch_size=10000, shuffle=True)"
      ]
    },
    {
      "cell_type": "markdown",
      "metadata": {
        "id": "1oRvqlroanZs"
      },
      "source": [
        "We will now evaluate the trained model using the same mini-batch approach as we did throughout the network training and derive the mean negative log-likelihood loss of the mini-batches:"
      ]
    },
    {
      "cell_type": "code",
      "execution_count": 33,
      "metadata": {
        "id": "Tttu0HEzanZs",
        "colab": {
          "base_uri": "https://localhost:8080/"
        },
        "outputId": "9e5cfffb-c298-4dd2-dbbc-c99c5f12efb0"
      },
      "outputs": [
        {
          "output_type": "stream",
          "name": "stdout",
          "text": [
            "[LOG 20240414-20:08:06] eval-loss: 0.29266196489334106\n"
          ]
        }
      ],
      "source": [
        "# init collection of mini-batch losses\n",
        "eval_mini_batch_losses = []\n",
        "\n",
        "# iterate over all-mini batches\n",
        "for i, (images, labels) in enumerate(mnist_eval_dataloader):\n",
        "\n",
        "    # run forward pass through the network\n",
        "    output = best_model(images)\n",
        "\n",
        "    # determine classification loss\n",
        "    loss = nll_loss(output, labels)\n",
        "\n",
        "    # collect mini-batch reconstruction loss\n",
        "    eval_mini_batch_losses.append(loss.data.item())\n",
        "\n",
        "# determine mean min-batch loss of epoch\n",
        "eval_loss = np.mean(eval_mini_batch_losses)\n",
        "\n",
        "# print epoch loss\n",
        "now = datetime.utcnow().strftime(\"%Y%m%d-%H:%M:%S\")\n",
        "print('[LOG {}] eval-loss: {}'.format(str(now), str(eval_loss)))"
      ]
    },
    {
      "cell_type": "markdown",
      "metadata": {
        "id": "j3JvpgZ0anZs"
      },
      "source": [
        "Let's evaluate some samples:"
      ]
    },
    {
      "cell_type": "code",
      "execution_count": 34,
      "metadata": {
        "id": "N5CRDHUGanZs"
      },
      "outputs": [],
      "source": [
        "# set (random) image id\n",
        "image_id = 777\n",
        "\n",
        "# retrieve image exhibiting the image id\n",
        "mnist_eval_image, mnist_eval_label = mnist_eval_data[image_id]"
      ]
    },
    {
      "cell_type": "markdown",
      "metadata": {
        "id": "CXMyKj8OanZt"
      },
      "source": [
        "Let's now inspect the true class of the image we selected:"
      ]
    },
    {
      "cell_type": "code",
      "execution_count": 35,
      "metadata": {
        "id": "5VM4xfszanZt",
        "colab": {
          "base_uri": "https://localhost:8080/"
        },
        "outputId": "9d9cfceb-7c93-4193-aa40-9721a9f3c4d0"
      },
      "outputs": [
        {
          "output_type": "execute_result",
          "data": {
            "text/plain": [
              "1"
            ]
          },
          "metadata": {},
          "execution_count": 35
        }
      ],
      "source": [
        "mnist_eval_label"
      ]
    },
    {
      "cell_type": "markdown",
      "metadata": {
        "id": "Go7lGxVTanZt"
      },
      "source": [
        "Ok, the randomly selected image should contain a one (1). Let's inspect the image accordingly:"
      ]
    },
    {
      "cell_type": "code",
      "execution_count": 36,
      "metadata": {
        "id": "COsT8JJRanZt",
        "colab": {
          "base_uri": "https://localhost:8080/",
          "height": 469
        },
        "outputId": "f137e5de-6be4-432f-c1c9-47afc0a17afa"
      },
      "outputs": [
        {
          "output_type": "execute_result",
          "data": {
            "text/plain": [
              "<matplotlib.image.AxesImage at 0x7834142b54e0>"
            ]
          },
          "metadata": {},
          "execution_count": 36
        },
        {
          "output_type": "display_data",
          "data": {
            "text/plain": [
              "<Figure size 640x480 with 1 Axes>"
            ],
            "image/png": "[encoded data removed]"
          },
          "metadata": {}
        }
      ],
      "source": [
        "# define tensor to image transformation\n",
        "trans = torchvision.transforms.ToPILImage()\n",
        "\n",
        "# set image plot title\n",
        "plt.title('Example: {}, Label: {}'.format(str(image_id), str(mnist_eval_label)))\n",
        "\n",
        "# plot mnist handwritten digit sample\n",
        "plt.imshow(trans(mnist_eval_image), cmap='gray')"
      ]
    },
    {
      "cell_type": "markdown",
      "metadata": {
        "id": "GXmxWFc4anZt"
      },
      "source": [
        "Ok, let's compare the true label with the prediction of our model:"
      ]
    },
    {
      "cell_type": "code",
      "execution_count": 37,
      "metadata": {
        "id": "wTX_4TOFanZt",
        "colab": {
          "base_uri": "https://localhost:8080/"
        },
        "outputId": "396793b3-c2d0-40d7-9f45-181d66393e6f"
      },
      "outputs": [
        {
          "output_type": "execute_result",
          "data": {
            "text/plain": [
              "tensor([[-1.7474e+01, -1.0505e-02, -7.3498e+00, -5.8172e+00, -1.2160e+01,\n",
              "         -7.3901e+00, -9.0477e+00, -8.5186e+00, -5.1436e+00, -9.8149e+00]],\n",
              "       grad_fn=<LogSoftmaxBackward0>)"
            ]
          },
          "metadata": {},
          "execution_count": 37
        }
      ],
      "source": [
        "best_model(mnist_eval_image)"
      ]
    },
    {
      "cell_type": "markdown",
      "metadata": {
        "id": "9r67vcpdanZu"
      },
      "source": [
        "We can even determine the likelihood of the most probable class:"
      ]
    },
    {
      "cell_type": "code",
      "execution_count": 38,
      "metadata": {
        "id": "qehiF3-2anZu",
        "colab": {
          "base_uri": "https://localhost:8080/"
        },
        "outputId": "eb9c9665-036e-4de2-b232-66ed53297218"
      },
      "outputs": [
        {
          "output_type": "execute_result",
          "data": {
            "text/plain": [
              "1"
            ]
          },
          "metadata": {},
          "execution_count": 38
        }
      ],
      "source": [
        "torch.argmax(best_model(mnist_eval_image), dim=1).item()"
      ]
    },
    {
      "cell_type": "markdown",
      "metadata": {
        "id": "YyhhMUm_anZu"
      },
      "source": [
        "Let's now obtain the predictions for all the handwritten digit images of the evaluation data:"
      ]
    },
    {
      "cell_type": "code",
      "execution_count": 39,
      "metadata": {
        "id": "TplVZWGUanZu"
      },
      "outputs": [],
      "source": [
        "predictions = torch.argmax(best_model(mnist_eval_data.data.float()), dim=1)"
      ]
    },
    {
      "cell_type": "markdown",
      "metadata": {
        "id": "LZvJ12j9anZx"
      },
      "source": [
        "Furthermore, let's obtain the overall classifcation accuracy:"
      ]
    },
    {
      "cell_type": "code",
      "execution_count": 40,
      "metadata": {
        "id": "93aXKwOXanZx",
        "colab": {
          "base_uri": "https://localhost:8080/"
        },
        "outputId": "49cdcef0-3b2f-426a-9ce4-f3ca2ee70415"
      },
      "outputs": [
        {
          "output_type": "execute_result",
          "data": {
            "text/plain": [
              "0.9092"
            ]
          },
          "metadata": {},
          "execution_count": 40
        }
      ],
      "source": [
        "metrics.accuracy_score(mnist_eval_data.targets, predictions.detach().numpy())"
      ]
    },
    {
      "cell_type": "markdown",
      "metadata": {
        "id": "QjiV-JYJanZx"
      },
      "source": [
        "Let's also inspect the confusion matrix to determine major sources of misclassification"
      ]
    },
    {
      "cell_type": "code",
      "execution_count": 41,
      "metadata": {
        "id": "9HbjIqYWanZx",
        "colab": {
          "base_uri": "https://localhost:8080/",
          "height": 472
        },
        "outputId": "a24789f7-8d37-4296-a356-6bebe9f21730"
      },
      "outputs": [
        {
          "output_type": "display_data",
          "data": {
            "text/plain": [
              "<Figure size 640x480 with 1 Axes>"
            ],
            "image/png": "[encoded data removed]"
          },
          "metadata": {}
        }
      ],
      "source": [
        "# determine classification matrix of the predicted and target classes\n",
        "mat = confusion_matrix(mnist_eval_data.targets, predictions.detach().numpy())\n",
        "\n",
        "# plot corresponding confusion matrix\n",
        "sns.heatmap(mat.T, square=True, annot=True, fmt='d', cbar=False, cmap='YlOrRd_r', xticklabels=range(0,10), yticklabels=range(0,10))\n",
        "plt.title('MNIST classification matrix')\n",
        "plt.xlabel('[true label]')\n",
        "plt.ylabel('[predicted label]');"
      ]
    },
    {
      "cell_type": "markdown",
      "metadata": {
        "id": "HMEm4kOzanZy"
      },
      "source": [
        "Ok, we can easily see that our current model confuses the digits 3 and 5 as well the digits 9 and 4 quite often. This is not surprising since those digits exhibit a high similarity."
      ]
    }
  ],
  "metadata": {
    "kernelspec": {
      "display_name": "Python 3",
      "name": "python3"
    },
    "language_info": {
      "codemirror_mode": {
        "name": "ipython",
        "version": 3
      },
      "file_extension": ".py",
      "mimetype": "text/x-python",
      "name": "python",
      "nbconvert_exporter": "python",
      "pygments_lexer": "ipython3",
      "version": "3.8.5"
    },
    "toc": {
      "base_numbering": 1,
      "nav_menu": {},
      "number_sections": false,
      "sideBar": true,
      "skip_h1_title": false,
      "title_cell": "Table of Contents",
      "title_sidebar": "Contents",
      "toc_cell": false,
      "toc_position": {
        "height": "calc(100% - 180px)",
        "left": "10px",
        "top": "150px",
        "width": "165px"
      },
      "toc_section_display": true,
      "toc_window_display": true
    },
    "colab": {
      "provenance": [],
      "gpuType": "T4"
    },
    "accelerator": "GPU"
  },
  "nbformat": 4,
  "nbformat_minor": 0
}